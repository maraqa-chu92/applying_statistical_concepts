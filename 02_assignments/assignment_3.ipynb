{
 "cells": [
  {
   "cell_type": "markdown",
   "id": "7b0bcac6-5086-4f4e-928a-570a9ff7ae58",
   "metadata": {},
   "source": [
    "# Assignment 3"
   ]
  },
  {
   "cell_type": "markdown",
   "id": "5fce0350-2a17-4e93-8d4c-0b8748fdfc32",
   "metadata": {},
   "source": [
    "As before, if a question can be answered with 'yes/no', or a numeric value, you may simply state as much. If you incorporate code from the internet (which is not required and generally not advisable), please cite the source within your code (providing a URL is sufficient).\n",
    "\n",
    "We will go through comparable code and concepts in the live learning session. If you run into trouble, start by using the help `help()` function in Python, to get information about the datasets and function in question. The internet is also a great resource when coding (though note that no outside searches are required by the assignment!). If you do incorporate code from the internet, please cite the source within your code (providing a URL is sufficient).\n",
    "\n",
    "Please bring questions that you cannot work out on your own to office hours, work periods or share with your peers on Slack. We will work with you through the issue."
   ]
  },
  {
   "cell_type": "code",
   "execution_count": 19,
   "id": "b92f7c91",
   "metadata": {},
   "outputs": [],
   "source": [
    "import numpy as np\n",
    "import pandas as pd\n",
    "import matplotlib.pyplot as plt\n",
    "import statsmodels.api as sm\n",
    "import sklearn.utils as sk"
   ]
  },
  {
   "cell_type": "markdown",
   "id": "d7fff1dd-e4ce-4a60-96a0-d08136e9bf5e",
   "metadata": {},
   "source": [
    "### Question 1: Resampling via Bootstrapping\n",
    "\n",
    "Now, we'll use the `iris` dataset, which we will add to Python using the `statsmodels` library. As always, start by reviewing a description of the dataset, by printing the dataset."
   ]
  },
  {
   "cell_type": "code",
   "execution_count": 12,
   "id": "47f4dcf5-0d4c-41ea-892d-d9f2c1aa1859",
   "metadata": {},
   "outputs": [
    {
     "data": {
      "text/html": [
       "<div>\n",
       "<style scoped>\n",
       "    .dataframe tbody tr th:only-of-type {\n",
       "        vertical-align: middle;\n",
       "    }\n",
       "\n",
       "    .dataframe tbody tr th {\n",
       "        vertical-align: top;\n",
       "    }\n",
       "\n",
       "    .dataframe thead th {\n",
       "        text-align: right;\n",
       "    }\n",
       "</style>\n",
       "<table border=\"1\" class=\"dataframe\">\n",
       "  <thead>\n",
       "    <tr style=\"text-align: right;\">\n",
       "      <th></th>\n",
       "      <th>Sepal.Length</th>\n",
       "      <th>Sepal.Width</th>\n",
       "      <th>Petal.Length</th>\n",
       "      <th>Petal.Width</th>\n",
       "      <th>Species</th>\n",
       "    </tr>\n",
       "  </thead>\n",
       "  <tbody>\n",
       "    <tr>\n",
       "      <th>0</th>\n",
       "      <td>5.1</td>\n",
       "      <td>3.5</td>\n",
       "      <td>1.4</td>\n",
       "      <td>0.2</td>\n",
       "      <td>setosa</td>\n",
       "    </tr>\n",
       "    <tr>\n",
       "      <th>1</th>\n",
       "      <td>4.9</td>\n",
       "      <td>3.0</td>\n",
       "      <td>1.4</td>\n",
       "      <td>0.2</td>\n",
       "      <td>setosa</td>\n",
       "    </tr>\n",
       "    <tr>\n",
       "      <th>2</th>\n",
       "      <td>4.7</td>\n",
       "      <td>3.2</td>\n",
       "      <td>1.3</td>\n",
       "      <td>0.2</td>\n",
       "      <td>setosa</td>\n",
       "    </tr>\n",
       "    <tr>\n",
       "      <th>3</th>\n",
       "      <td>4.6</td>\n",
       "      <td>3.1</td>\n",
       "      <td>1.5</td>\n",
       "      <td>0.2</td>\n",
       "      <td>setosa</td>\n",
       "    </tr>\n",
       "    <tr>\n",
       "      <th>4</th>\n",
       "      <td>5.0</td>\n",
       "      <td>3.6</td>\n",
       "      <td>1.4</td>\n",
       "      <td>0.2</td>\n",
       "      <td>setosa</td>\n",
       "    </tr>\n",
       "    <tr>\n",
       "      <th>...</th>\n",
       "      <td>...</td>\n",
       "      <td>...</td>\n",
       "      <td>...</td>\n",
       "      <td>...</td>\n",
       "      <td>...</td>\n",
       "    </tr>\n",
       "    <tr>\n",
       "      <th>145</th>\n",
       "      <td>6.7</td>\n",
       "      <td>3.0</td>\n",
       "      <td>5.2</td>\n",
       "      <td>2.3</td>\n",
       "      <td>virginica</td>\n",
       "    </tr>\n",
       "    <tr>\n",
       "      <th>146</th>\n",
       "      <td>6.3</td>\n",
       "      <td>2.5</td>\n",
       "      <td>5.0</td>\n",
       "      <td>1.9</td>\n",
       "      <td>virginica</td>\n",
       "    </tr>\n",
       "    <tr>\n",
       "      <th>147</th>\n",
       "      <td>6.5</td>\n",
       "      <td>3.0</td>\n",
       "      <td>5.2</td>\n",
       "      <td>2.0</td>\n",
       "      <td>virginica</td>\n",
       "    </tr>\n",
       "    <tr>\n",
       "      <th>148</th>\n",
       "      <td>6.2</td>\n",
       "      <td>3.4</td>\n",
       "      <td>5.4</td>\n",
       "      <td>2.3</td>\n",
       "      <td>virginica</td>\n",
       "    </tr>\n",
       "    <tr>\n",
       "      <th>149</th>\n",
       "      <td>5.9</td>\n",
       "      <td>3.0</td>\n",
       "      <td>5.1</td>\n",
       "      <td>1.8</td>\n",
       "      <td>virginica</td>\n",
       "    </tr>\n",
       "  </tbody>\n",
       "</table>\n",
       "<p>150 rows × 5 columns</p>\n",
       "</div>"
      ],
      "text/plain": [
       "     Sepal.Length  Sepal.Width  Petal.Length  Petal.Width    Species\n",
       "0             5.1          3.5           1.4          0.2     setosa\n",
       "1             4.9          3.0           1.4          0.2     setosa\n",
       "2             4.7          3.2           1.3          0.2     setosa\n",
       "3             4.6          3.1           1.5          0.2     setosa\n",
       "4             5.0          3.6           1.4          0.2     setosa\n",
       "..            ...          ...           ...          ...        ...\n",
       "145           6.7          3.0           5.2          2.3  virginica\n",
       "146           6.3          2.5           5.0          1.9  virginica\n",
       "147           6.5          3.0           5.2          2.0  virginica\n",
       "148           6.2          3.4           5.4          2.3  virginica\n",
       "149           5.9          3.0           5.1          1.8  virginica\n",
       "\n",
       "[150 rows x 5 columns]"
      ]
     },
     "execution_count": 12,
     "metadata": {},
     "output_type": "execute_result"
    }
   ],
   "source": [
    "# Import\n",
    "iris = sm.datasets.get_rdataset('iris', 'datasets')\n",
    "df = pd.DataFrame(iris.data)\n",
    "df"
   ]
  },
  {
   "cell_type": "markdown",
   "id": "7717a32c",
   "metadata": {},
   "source": [
    "_(i)_ Create an `alpha_func(D, idx)` function which takes the `Sepal`'s `width` and `length` to calculate for alpha"
   ]
  },
  {
   "cell_type": "code",
   "execution_count": 13,
   "id": "f3da5483",
   "metadata": {},
   "outputs": [],
   "source": [
    "# Define alpha_func\n",
    "def alpha_func(df, idx):\n",
    "    # Assuming df contains the Iris dataset with columns 'sepal length (cm)' and 'sepal width (cm)'\n",
    "    sepal_width_bootstrap = df.loc[idx, 'Sepal.Width']\n",
    "    sepal_length_bootstrap = df.loc[idx, 'Sepal.Length']\n",
    "    \n",
    "    # Here, we can compute alpha using any statistic, e.g., correlation coefficient\n",
    "    # Let's compute the Pearson correlation coefficient as an example\n",
    "    correlation_matrix = np.corrcoef(sepal_width_bootstrap, sepal_length_bootstrap)\n",
    "    alpha = correlation_matrix[0, 1]  # Pearson correlation coefficient\n",
    "    \n",
    "    return alpha\n"
   ]
  },
  {
   "cell_type": "markdown",
   "id": "ff94d66b",
   "metadata": {},
   "source": [
    "Test the code below"
   ]
  },
  {
   "cell_type": "code",
   "execution_count": 14,
   "id": "eda715cd",
   "metadata": {},
   "outputs": [
    {
     "data": {
      "text/plain": [
       "-0.20592575599067026"
      ]
     },
     "execution_count": 14,
     "metadata": {},
     "output_type": "execute_result"
    }
   ],
   "source": [
    "alpha_func(df, range(100))"
   ]
  },
  {
   "cell_type": "markdown",
   "id": "f338b14e",
   "metadata": {},
   "source": [
    "_(ii)_ Construct a new bootstrap data set and recompute alpha"
   ]
  },
  {
   "cell_type": "code",
   "execution_count": 15,
   "id": "34ee835f",
   "metadata": {},
   "outputs": [
    {
     "data": {
      "text/plain": [
       "-0.2687943979274062"
      ]
     },
     "execution_count": 15,
     "metadata": {},
     "output_type": "execute_result"
    }
   ],
   "source": [
    "rng = np.random.default_rng(0)\n",
    "alpha_func(df,\n",
    "           rng.choice(100,\n",
    "                      100,\n",
    "                      replace=True))"
   ]
  },
  {
   "cell_type": "markdown",
   "id": "056080ff-7aec-41aa-bb61-763b390e4cf2",
   "metadata": {},
   "source": [
    "Imagine we are analysts working for a shipping company. The company wants to know the average length of iris' petals, to inform space allotment on an upcoming shipment. The relevant variable in the dataset is `Sepal.Length`. \n",
    "\n",
    "_(iii)_ Why is it (perhaps) not sufficient to simply calculate the mean of `Sepal.Length`? What more information will preforming a bootstrap provide to us?  \n",
    "\n",
    "_(iv)_ We can perform bootstrapping in Python by defining a simple function using `boot_SE()` for computing the bootstrap standard error. Remember, because bootstrapping involves randomness, we must first set a seed for reproducibility!"
   ]
  },
  {
   "cell_type": "markdown",
   "id": "af822f12",
   "metadata": {},
   "source": [
    "Relying on the mean to assess average length is making a judgement based on only one point of data. Taking repeated measures from the same sample with bootstrapping would give us a distribution of means, which would better shed light on the true variability of sepal length without having to take repeated samples from the population. "
   ]
  },
  {
   "cell_type": "code",
   "execution_count": 25,
   "id": "77540f76-7747-4dba-8e77-e1ded54af536",
   "metadata": {},
   "outputs": [],
   "source": [
    "# Function to compute bootstrap standard error (SE)\n",
    "def boot_SE(data, statistic_func, n_bootstrap=1000, random_seed=None):\n",
    "    # Set random seed for reproducibility\n",
    "    np.random.seed(random_seed)\n",
    "    \n",
    "    # Number of data points\n",
    "    n = len(data)\n",
    "    \n",
    "    # Initialize an array to store bootstrap samples\n",
    "    bootstrap_samples = np.zeros(n_bootstrap)\n",
    "    \n",
    "    # Generate bootstrap samples and compute statistic\n",
    "    for i in range(n_bootstrap):\n",
    "        # Generate bootstrap sample (sample with replacement)\n",
    "        bootstrap_sample = sk.resample(data)\n",
    "\n",
    "        # Compute statistic of interest on bootstrap sample\n",
    "        statistic = statistic_func(bootstrap_sample)\n",
    "        \n",
    "        # Store statistic in bootstrap_samples array\n",
    "        bootstrap_samples[i] = statistic\n",
    "    \n",
    "    # Calculate standard error (SE) of bootstrap samples\n",
    "    boot_se = np.std(bootstrap_samples)\n",
    "    \n",
    "    return boot_se"
   ]
  },
  {
   "cell_type": "markdown",
   "id": "8a543472",
   "metadata": {},
   "source": [
    "_(v)_ Evaluate the accuracy of our alpha estimate with B = 1000"
   ]
  },
  {
   "cell_type": "code",
   "execution_count": 27,
   "id": "9ed41c4e",
   "metadata": {},
   "outputs": [
    {
     "data": {
      "text/plain": [
       "0.06702629798652003"
      ]
     },
     "execution_count": 27,
     "metadata": {},
     "output_type": "execute_result"
    }
   ],
   "source": [
    "bootstrap_se = boot_SE(df[\"Sepal.Length\"], np.mean, n_bootstrap=1000, random_seed=42)\n",
    "bootstrap_se"
   ]
  },
  {
   "cell_type": "markdown",
   "id": "785fe758-f395-40b6-a9a3-28ec2efeba29",
   "metadata": {},
   "source": [
    "_(vi)_ What is the original mean value of `Sepal.Length`?\n",
    "\n",
    "Next, let's look _inside_ our bootstrapping to understand the new, bootstrapped sample we have created. Let's review the bootstrapped range, by using `t_range = np.ptp(boot_se_samples)`.\n",
    "\n",
    "_(vii)_. Write code to review the bootstrapped mean value, and the standard deviation of the bootstrapped samples. Compare the mean against its original value."
   ]
  },
  {
   "cell_type": "code",
   "execution_count": 48,
   "id": "108766c9",
   "metadata": {},
   "outputs": [],
   "source": [
    "# Function to compute bootstrap standard error (SE) and its range\n",
    "def boot_SE_and_range(data, statistic_func, n_bootstrap=1000, random_seed=None):\n",
    "    # Set random seed for reproducibility\n",
    "    np.random.seed(random_seed)\n",
    "    \n",
    "    # Number of data points\n",
    "    n = len(data)\n",
    "    \n",
    "    # Initialize an array to store bootstrap samples\n",
    "    bootstrap_samples = np.zeros(n_bootstrap)\n",
    "    \n",
    "    # Generate bootstrap samples and compute statistic\n",
    "    for i in range(n_bootstrap):\n",
    "        # Generate bootstrap sample (sample with replacement)\n",
    "        bootstrap_sample = sk.resample(data)\n",
    "        \n",
    "        # Compute statistic of interest on bootstrap sample\n",
    "        statistic = statistic_func(bootstrap_sample)\n",
    "        \n",
    "        # Store statistic in bootstrap_samples array\n",
    "        bootstrap_samples[i] = statistic\n",
    "    \n",
    "    # Calculate standard error (SE) of bootstrap samples\n",
    "    boot_se = np.std(bootstrap_samples)\n",
    "    \n",
    "    # Calculate range of bootstrapped standard errors\n",
    "    boot_se_samples_range = np.ptp(bootstrap_samples)\n",
    "    \n",
    "    return boot_se, boot_se_samples_range, np.mean(bootstrap_samples), bootstrap_samples\n"
   ]
  },
  {
   "cell_type": "code",
   "execution_count": 49,
   "id": "6a2db996",
   "metadata": {},
   "outputs": [
    {
     "data": {
      "text/plain": [
       "(0.06702629798652003,\n",
       " 0.46200000000000063,\n",
       " 5.844700666666666,\n",
       " array([5.91133333, 5.84266667, 5.764     , 5.93466667, 5.81466667,\n",
       "        5.83666667, 5.90133333, 5.774     , 5.79733333, 5.764     ,\n",
       "        5.862     , 5.88      , 5.888     , 5.792     , 5.93666667,\n",
       "        5.86466667, 5.86733333, 5.87133333, 5.87733333, 5.84533333,\n",
       "        5.842     , 5.83      , 5.85666667, 5.942     , 5.794     ,\n",
       "        5.88933333, 5.8       , 5.906     , 5.84      , 5.89666667,\n",
       "        5.86733333, 5.852     , 5.91466667, 5.80866667, 5.95733333,\n",
       "        5.81733333, 5.894     , 5.78266667, 5.85533333, 5.918     ,\n",
       "        5.95533333, 5.84133333, 5.88866667, 5.81066667, 5.79133333,\n",
       "        5.84333333, 5.83466667, 5.93      , 5.85933333, 5.95      ,\n",
       "        6.00466667, 5.85533333, 5.80666667, 5.85466667, 5.86933333,\n",
       "        5.858     , 5.816     , 5.83133333, 5.85066667, 5.77333333,\n",
       "        5.77066667, 5.93133333, 5.854     , 5.92666667, 5.82333333,\n",
       "        5.89666667, 5.81133333, 5.82133333, 5.832     , 5.942     ,\n",
       "        5.83866667, 5.88866667, 5.79733333, 5.83866667, 5.7       ,\n",
       "        5.81666667, 5.934     , 5.93266667, 5.816     , 5.84533333,\n",
       "        5.754     , 5.78133333, 5.83      , 5.67533333, 5.88133333,\n",
       "        5.77866667, 5.842     , 5.92666667, 5.85933333, 5.79733333,\n",
       "        5.79066667, 5.84266667, 5.83      , 5.848     , 5.836     ,\n",
       "        5.934     , 5.77333333, 5.85666667, 5.88866667, 5.82133333,\n",
       "        5.87      , 5.89533333, 5.878     , 5.95533333, 5.826     ,\n",
       "        5.90466667, 5.88      , 5.88866667, 5.788     , 5.81933333,\n",
       "        5.928     , 5.82733333, 5.87666667, 5.78333333, 5.95066667,\n",
       "        5.938     , 5.83266667, 5.87466667, 5.98066667, 5.858     ,\n",
       "        5.88733333, 5.91533333, 5.71533333, 5.75733333, 5.96933333,\n",
       "        5.80666667, 5.85466667, 5.762     , 5.77466667, 5.75466667,\n",
       "        5.82466667, 5.80866667, 5.972     , 5.80466667, 5.868     ,\n",
       "        5.73      , 5.928     , 5.81066667, 5.74933333, 5.82333333,\n",
       "        5.86      , 5.87133333, 5.91333333, 5.80466667, 5.972     ,\n",
       "        5.79133333, 5.79266667, 6.056     , 5.688     , 5.79533333,\n",
       "        5.75266667, 5.84266667, 5.88066667, 5.93466667, 5.80533333,\n",
       "        5.85866667, 5.91333333, 5.97266667, 5.86066667, 5.89      ,\n",
       "        5.76066667, 5.798     , 5.79666667, 5.88133333, 5.77066667,\n",
       "        5.86066667, 5.90933333, 5.91333333, 5.73333333, 5.84866667,\n",
       "        5.84133333, 5.86066667, 5.89      , 5.876     , 5.818     ,\n",
       "        5.86133333, 5.86133333, 5.912     , 5.894     , 5.98466667,\n",
       "        5.90933333, 5.932     , 5.772     , 5.842     , 5.87266667,\n",
       "        5.87      , 5.74533333, 5.87      , 5.91466667, 5.82933333,\n",
       "        5.796     , 5.878     , 5.76666667, 5.868     , 5.892     ,\n",
       "        5.91333333, 5.82066667, 5.71533333, 5.934     , 5.88133333,\n",
       "        5.8       , 5.76066667, 5.814     , 5.86933333, 5.86466667,\n",
       "        5.87933333, 5.90866667, 5.86733333, 5.77466667, 5.794     ,\n",
       "        5.81466667, 5.814     , 5.87066667, 5.84666667, 5.84533333,\n",
       "        5.89866667, 5.91533333, 5.73266667, 5.72933333, 5.83266667,\n",
       "        5.79266667, 5.81133333, 5.77133333, 5.82733333, 5.92733333,\n",
       "        5.77733333, 5.92533333, 5.93133333, 5.84733333, 5.75133333,\n",
       "        6.012     , 5.81733333, 5.894     , 5.86666667, 5.882     ,\n",
       "        5.88933333, 5.89866667, 5.838     , 5.87133333, 5.90066667,\n",
       "        5.77333333, 5.87866667, 5.81333333, 5.828     , 5.808     ,\n",
       "        5.922     , 5.83866667, 5.82133333, 5.79066667, 5.81      ,\n",
       "        5.94      , 5.74733333, 5.71933333, 5.90533333, 5.89733333,\n",
       "        5.86933333, 5.74733333, 5.896     , 5.77333333, 5.848     ,\n",
       "        5.68933333, 5.734     , 5.808     , 5.84733333, 5.828     ,\n",
       "        5.94266667, 5.82133333, 5.90866667, 5.88066667, 5.712     ,\n",
       "        5.86533333, 5.90266667, 5.92533333, 5.80733333, 5.896     ,\n",
       "        5.874     , 5.73133333, 5.888     , 5.80266667, 5.76333333,\n",
       "        5.878     , 5.92666667, 5.87      , 5.83933333, 5.71066667,\n",
       "        5.85333333, 5.84866667, 5.89066667, 5.82733333, 5.744     ,\n",
       "        5.814     , 5.95133333, 5.82      , 5.84266667, 5.76133333,\n",
       "        5.84533333, 5.764     , 5.884     , 5.962     , 5.854     ,\n",
       "        5.76933333, 5.84933333, 5.88533333, 5.886     , 5.854     ,\n",
       "        5.81866667, 5.93866667, 5.77333333, 5.80333333, 5.984     ,\n",
       "        5.84      , 5.82733333, 5.862     , 5.938     , 5.728     ,\n",
       "        5.738     , 5.86933333, 5.78066667, 5.92333333, 5.89733333,\n",
       "        5.79333333, 5.866     , 5.91266667, 5.856     , 5.93133333,\n",
       "        5.726     , 5.844     , 5.91666667, 5.80666667, 5.99066667,\n",
       "        5.862     , 5.81333333, 5.966     , 6.006     , 5.84      ,\n",
       "        5.84866667, 5.84733333, 5.97333333, 5.88066667, 5.69866667,\n",
       "        5.868     , 5.836     , 5.82466667, 5.812     , 5.83866667,\n",
       "        5.844     , 5.85133333, 5.91466667, 5.86666667, 5.77733333,\n",
       "        5.698     , 5.89666667, 5.95333333, 5.86266667, 5.72533333,\n",
       "        5.99133333, 5.74666667, 5.91      , 5.88733333, 5.94466667,\n",
       "        5.87533333, 5.85      , 5.796     , 5.92466667, 5.914     ,\n",
       "        5.89733333, 5.78333333, 5.76066667, 5.80466667, 5.80266667,\n",
       "        5.83466667, 5.83333333, 5.708     , 5.81733333, 5.85666667,\n",
       "        5.752     , 5.82      , 5.832     , 5.86333333, 5.89333333,\n",
       "        5.792     , 5.77666667, 5.89133333, 5.808     , 5.88866667,\n",
       "        5.872     , 5.722     , 5.802     , 5.75933333, 5.79933333,\n",
       "        5.80866667, 5.89266667, 5.80933333, 5.746     , 5.83733333,\n",
       "        5.87      , 5.85      , 5.90533333, 6.06866667, 5.972     ,\n",
       "        5.92466667, 5.88866667, 5.716     , 5.80066667, 5.87066667,\n",
       "        5.786     , 5.89      , 5.79133333, 5.77133333, 5.766     ,\n",
       "        5.97466667, 5.792     , 5.816     , 5.93266667, 5.80466667,\n",
       "        5.80733333, 5.78866667, 5.864     , 5.89066667, 5.838     ,\n",
       "        5.92666667, 5.81066667, 5.882     , 5.65133333, 5.80266667,\n",
       "        5.75133333, 5.81333333, 5.73533333, 5.91733333, 6.02666667,\n",
       "        5.83      , 5.84466667, 5.85266667, 5.88933333, 5.886     ,\n",
       "        5.84133333, 5.72666667, 5.83      , 5.85133333, 5.95866667,\n",
       "        5.82466667, 5.80466667, 5.88533333, 5.74266667, 5.822     ,\n",
       "        5.942     , 5.93533333, 5.93066667, 5.724     , 5.78066667,\n",
       "        5.74466667, 5.91733333, 5.89533333, 5.71933333, 5.84866667,\n",
       "        5.88133333, 5.82      , 5.78133333, 5.80333333, 5.87666667,\n",
       "        5.79333333, 5.84133333, 5.884     , 5.92      , 5.82733333,\n",
       "        5.85666667, 5.79866667, 5.932     , 5.806     , 5.78666667,\n",
       "        5.73533333, 5.94266667, 5.884     , 5.79733333, 5.97666667,\n",
       "        5.812     , 5.804     , 5.80666667, 5.886     , 5.824     ,\n",
       "        5.85266667, 5.90466667, 5.74866667, 5.79933333, 5.832     ,\n",
       "        5.83466667, 5.80666667, 5.844     , 5.83866667, 5.67066667,\n",
       "        5.77      , 5.88466667, 5.88      , 5.76933333, 5.806     ,\n",
       "        5.82066667, 5.82866667, 5.81266667, 5.772     , 5.724     ,\n",
       "        5.84533333, 5.74066667, 5.97      , 5.82466667, 5.904     ,\n",
       "        5.78733333, 5.876     , 5.83666667, 5.80866667, 5.82666667,\n",
       "        5.87333333, 5.798     , 5.86666667, 5.78333333, 5.79133333,\n",
       "        5.89733333, 5.70933333, 5.902     , 5.83533333, 5.74733333,\n",
       "        5.89      , 5.722     , 5.91533333, 5.81333333, 5.89866667,\n",
       "        5.92266667, 5.892     , 5.76      , 5.86066667, 5.84333333,\n",
       "        5.84133333, 5.844     , 5.862     , 5.78533333, 5.85866667,\n",
       "        5.83133333, 5.86666667, 5.9       , 5.81533333, 5.89133333,\n",
       "        5.75      , 5.73933333, 5.82533333, 5.836     , 6.00266667,\n",
       "        5.78333333, 5.86133333, 5.84666667, 5.92733333, 5.76      ,\n",
       "        5.73933333, 5.814     , 5.794     , 5.93466667, 5.80933333,\n",
       "        5.80733333, 5.858     , 5.99066667, 5.954     , 5.8       ,\n",
       "        5.79266667, 5.87533333, 5.73533333, 5.894     , 5.824     ,\n",
       "        5.90133333, 5.982     , 5.83866667, 5.788     , 5.85933333,\n",
       "        5.75866667, 5.83333333, 5.64933333, 5.89866667, 5.79666667,\n",
       "        5.89      , 5.862     , 5.928     , 5.79333333, 5.73266667,\n",
       "        5.956     , 6.04      , 5.7       , 5.908     , 5.79      ,\n",
       "        5.83666667, 5.90066667, 5.892     , 5.84466667, 5.95      ,\n",
       "        5.768     , 5.68133333, 5.818     , 5.88533333, 5.90266667,\n",
       "        5.88866667, 5.85      , 5.85333333, 5.85      , 5.786     ,\n",
       "        5.83066667, 5.856     , 5.87666667, 5.77866667, 5.87466667,\n",
       "        5.75533333, 5.81533333, 5.67666667, 5.77533333, 5.846     ,\n",
       "        5.776     , 5.85133333, 5.72933333, 5.95066667, 5.89733333,\n",
       "        5.80066667, 5.86733333, 5.80666667, 5.818     , 5.88866667,\n",
       "        5.91      , 5.902     , 5.85      , 5.95      , 5.882     ,\n",
       "        5.87333333, 5.81333333, 5.79066667, 5.712     , 5.78733333,\n",
       "        5.788     , 5.80466667, 5.73533333, 5.77733333, 5.798     ,\n",
       "        6.01666667, 5.86933333, 5.82066667, 5.78666667, 5.77066667,\n",
       "        5.95133333, 5.73      , 5.81466667, 5.96733333, 5.83466667,\n",
       "        5.866     , 5.79733333, 5.73666667, 5.942     , 5.99266667,\n",
       "        5.87133333, 5.736     , 5.77933333, 5.91066667, 5.824     ,\n",
       "        5.816     , 5.824     , 5.81933333, 5.77      , 5.82466667,\n",
       "        5.79933333, 5.926     , 5.85133333, 5.808     , 5.898     ,\n",
       "        5.88      , 5.79866667, 5.842     , 5.85333333, 5.874     ,\n",
       "        5.856     , 5.896     , 5.89533333, 5.898     , 5.804     ,\n",
       "        5.91333333, 5.81      , 5.65066667, 5.82666667, 5.77466667,\n",
       "        5.808     , 5.91933333, 5.87266667, 5.87533333, 5.96133333,\n",
       "        5.812     , 5.80066667, 5.67133333, 5.822     , 5.78533333,\n",
       "        5.90266667, 5.85733333, 5.94266667, 5.82266667, 5.85733333,\n",
       "        5.81266667, 5.854     , 5.826     , 5.864     , 5.804     ,\n",
       "        5.818     , 5.914     , 5.862     , 5.83866667, 5.89733333,\n",
       "        5.76066667, 5.76666667, 5.77866667, 5.78866667, 5.82066667,\n",
       "        5.90933333, 5.82933333, 5.856     , 5.86266667, 5.90333333,\n",
       "        5.82066667, 5.90533333, 5.91733333, 5.85666667, 5.876     ,\n",
       "        5.84066667, 5.83933333, 5.82266667, 5.856     , 5.88733333,\n",
       "        5.86533333, 5.87466667, 5.89133333, 5.77066667, 5.786     ,\n",
       "        5.83933333, 5.836     , 5.91866667, 5.80133333, 5.778     ,\n",
       "        5.96      , 5.818     , 5.91466667, 5.90666667, 5.86      ,\n",
       "        5.80333333, 5.908     , 5.856     , 5.786     , 5.89333333,\n",
       "        5.80266667, 5.68733333, 5.80666667, 5.82466667, 5.916     ,\n",
       "        5.90466667, 5.80266667, 5.78066667, 5.73266667, 5.81333333,\n",
       "        5.832     , 5.886     , 5.78866667, 5.82866667, 5.96      ,\n",
       "        5.79866667, 5.88333333, 5.906     , 5.936     , 5.89      ,\n",
       "        5.85533333, 5.828     , 5.78333333, 5.89133333, 5.77266667,\n",
       "        5.882     , 5.922     , 5.83733333, 5.78866667, 5.79133333,\n",
       "        5.892     , 5.766     , 5.84866667, 5.93733333, 5.912     ,\n",
       "        5.77666667, 5.86466667, 5.86133333, 5.946     , 5.844     ,\n",
       "        5.84866667, 5.956     , 5.874     , 5.79933333, 5.694     ,\n",
       "        5.88066667, 5.92866667, 5.80066667, 5.936     , 5.826     ,\n",
       "        5.902     , 5.9       , 5.884     , 5.81866667, 5.95133333,\n",
       "        5.76466667, 5.70533333, 5.954     , 5.88866667, 5.86333333,\n",
       "        5.77933333, 5.974     , 5.75133333, 5.93533333, 5.77      ,\n",
       "        5.98733333, 5.75266667, 5.85133333, 5.956     , 5.77      ,\n",
       "        5.81333333, 5.82666667, 5.914     , 5.796     , 5.862     ,\n",
       "        5.804     , 5.77266667, 5.79066667, 5.85      , 5.81933333,\n",
       "        5.832     , 5.82933333, 5.90333333, 5.822     , 5.78266667,\n",
       "        5.80533333, 5.78266667, 5.83333333, 5.944     , 5.9       ,\n",
       "        5.79866667, 5.92133333, 5.82933333, 5.72933333, 5.84733333,\n",
       "        5.968     , 5.842     , 5.80133333, 5.87066667, 5.91      ,\n",
       "        5.85666667, 5.85066667, 5.84333333, 5.912     , 5.80933333,\n",
       "        5.848     , 5.92733333, 5.79266667, 5.82266667, 5.878     ,\n",
       "        5.79466667, 5.76733333, 5.86466667, 5.79533333, 5.814     ,\n",
       "        5.83533333, 5.81533333, 5.77266667, 5.76733333, 5.89      ,\n",
       "        5.84      , 5.85066667, 5.75533333, 5.83666667, 5.97933333,\n",
       "        5.93466667, 5.824     , 5.88866667, 5.918     , 5.886     ,\n",
       "        5.682     , 5.87133333, 5.86066667, 5.88066667, 5.85333333,\n",
       "        5.804     , 5.86266667, 5.80666667, 5.778     , 5.874     ,\n",
       "        5.89133333, 5.95133333, 5.86066667, 5.86866667, 5.882     ,\n",
       "        5.83666667, 5.77733333, 5.9       , 5.83466667, 5.85133333,\n",
       "        5.77666667, 5.75866667, 5.82      , 5.82      , 5.88      ,\n",
       "        5.824     , 5.934     , 5.82666667, 5.85266667, 5.87066667,\n",
       "        5.88333333, 5.878     , 5.80133333, 5.77266667, 5.77      ,\n",
       "        5.87733333, 5.84066667, 5.83733333, 5.81266667, 5.93066667,\n",
       "        5.97866667, 5.89933333, 5.928     , 5.76066667, 5.796     ,\n",
       "        5.83066667, 5.95733333, 5.886     , 5.804     , 5.78333333,\n",
       "        5.92266667, 5.89      , 5.91066667, 5.87666667, 5.66666667,\n",
       "        5.912     , 5.866     , 5.742     , 5.76533333, 5.82866667,\n",
       "        5.68133333, 5.84933333, 5.866     , 5.95      , 5.82133333,\n",
       "        5.60666667, 5.85533333, 5.866     , 5.83866667, 5.96666667,\n",
       "        5.81666667, 5.83466667, 5.87866667, 5.94266667, 5.87333333,\n",
       "        5.88      , 5.89466667, 5.81533333, 5.78333333, 5.82666667,\n",
       "        5.92333333, 5.76266667, 5.68333333, 5.922     , 5.91666667,\n",
       "        5.86533333, 5.85066667, 5.85666667, 5.75866667, 5.684     ,\n",
       "        5.73066667, 5.83666667, 5.82266667, 5.76933333, 5.92933333,\n",
       "        5.87133333, 5.942     , 5.76333333, 5.93466667, 5.82266667,\n",
       "        5.85533333, 5.96066667, 5.79466667, 5.77733333, 5.9       ,\n",
       "        5.92866667, 5.746     , 5.784     , 5.91066667, 5.86733333,\n",
       "        5.91333333, 5.81866667, 5.85066667, 5.84333333, 5.94933333,\n",
       "        5.998     , 5.858     , 5.786     , 5.924     , 5.91      ,\n",
       "        5.87533333, 5.83933333, 5.83      , 5.76866667, 5.88533333]))"
      ]
     },
     "execution_count": 49,
     "metadata": {},
     "output_type": "execute_result"
    }
   ],
   "source": [
    "boot_SE_and_range(df[\"Sepal.Length\"], np.mean, n_bootstrap=1000, random_seed=42)"
   ]
  },
  {
   "cell_type": "code",
   "execution_count": 35,
   "id": "7686243c",
   "metadata": {},
   "outputs": [
    {
     "data": {
      "text/plain": [
       "(5.843333333333334, 0.8253012917851409)"
      ]
     },
     "execution_count": 35,
     "metadata": {},
     "output_type": "execute_result"
    }
   ],
   "source": [
    "np.mean(df[\"Sepal.Length\"]),np.std(df[\"Sepal.Length\"])"
   ]
  },
  {
   "cell_type": "markdown",
   "id": "66c6c663-f3bb-4a15-8896-6dccfb7259fd",
   "metadata": {},
   "source": [
    "_(viii)_ Next, let's compute 95% confidence intervals, for the mean value of iris petal length. (Hint: use the `np.percentile` function)"
   ]
  },
  {
   "cell_type": "code",
   "execution_count": 61,
   "id": "74de4a76-e500-4c93-82a9-e7365cc86c91",
   "metadata": {},
   "outputs": [
    {
     "data": {
      "text/plain": [
       "array([5.71063333, 5.97268333])"
      ]
     },
     "execution_count": 61,
     "metadata": {},
     "output_type": "execute_result"
    }
   ],
   "source": [
    "bootstrap_samples = boot_SE_and_range(df[\"Sepal.Length\"], np.mean, 1000,42)[3]\n",
    "\n",
    "\n",
    "lower_percentile = (0.05 / 2) * 100\n",
    "upper_percentile = 100 - lower_percentile\n",
    "\n",
    "np.percentile(bootstrap_samples, [lower_percentile, upper_percentile])\n",
    "    \n"
   ]
  },
  {
   "cell_type": "markdown",
   "id": "488e54f7-ebe4-4740-835c-9832320005d0",
   "metadata": {},
   "source": [
    "_(ix)_. Use the plot function to create an histogram of the bootstrapped samples. What does this histogram show ?"
   ]
  },
  {
   "cell_type": "code",
   "execution_count": 55,
   "id": "4fca4e3f",
   "metadata": {},
   "outputs": [
    {
     "data": {
      "image/png": "[encoded data removed]",
      "text/plain": [
       "<Figure size 800x600 with 1 Axes>"
      ]
     },
     "metadata": {},
     "output_type": "display_data"
    }
   ],
   "source": [
    "#Complete this\n",
    "\n",
    "\n",
    "plt.figure(figsize=(8, 6))\n",
    "plt.hist(bootstrap_samples, bins=30, edgecolor='black', alpha=0.7)\n",
    "plt.axvline(x=np.mean(bootstrap_samples), color='red', linestyle='--', linewidth=2, label='Mean of Bootstrapped Samples')\n",
    "plt.title('Histogram of Bootstrapped Samples')\n",
    "plt.xlabel('Bootstrap Sample Means')\n",
    "plt.ylabel('Frequency')\n",
    "plt.legend()\n",
    "plt.grid(True)"
   ]
  },
  {
   "cell_type": "markdown",
   "id": "bfa9a095-9c7a-4ab5-aa99-b11bf419fae0",
   "metadata": {},
   "source": [
    "_(x)_ Given your bootstrapped analysis, what do you recommend to shipping company? "
   ]
  },
  {
   "cell_type": "markdown",
   "id": "136583fb",
   "metadata": {},
   "source": [
    "Based on our findings it would make the most sense to assume that the average sepal length is 5.84, plus or minus  0.13. They should err on the larger side if they want to pack the most irises possible or the smaller side if they want to minimize the space used."
   ]
  },
  {
   "cell_type": "markdown",
   "id": "466943e8",
   "metadata": {},
   "source": [
    "# Criteria\n",
    "\n",
    "|Criteria            |Complete           |Incomplete          |\n",
    "|--------------------|---------------|--------------|\n",
    "|Bootstrapping|All steps are done correctly and the answers are correct.|At least one step is done incorrectly leading to a wrong answer.|"
   ]
  },
  {
   "cell_type": "markdown",
   "id": "68b8a226",
   "metadata": {},
   "source": [
    "## Submission Information\n",
    "\n",
    "🚨 **Please review our [Assignment Submission Guide](https://github.com/UofT-DSI/onboarding/blob/main/onboarding_documents/submissions.md)** 🚨 for detailed instructions on how to format, branch, and submit your work. Following these guidelines is crucial for your submissions to be evaluated correctly.\n",
    "\n",
    "### Note:\n",
    "\n",
    "If you like, you may collaborate with others in the cohort. If you choose to do so, please indicate with whom you have worked with in your pull request by tagging their GitHub username. Separate submissions are required.\n",
    "\n",
    "\n",
    "### Submission Parameters:\n",
    "* Submission Due Date: `HH:MM AM/PM - DD/MM/YYYY`\n",
    "* The branch name for your repo should be: `assignment-3`\n",
    "* What to submit for this assignment:\n",
    "    * This Jupyter Notebook (assignment_3.ipynb) should be populated and should be the only change in your pull request.\n",
    "* What the pull request link should look like for this assignment: `https://github.com/<your_github_username>/applied_statistical_concepts/pull/<pr_id>`\n",
    "    * Open a private window in your browser. Copy and paste the link to your pull request into the address bar. Make sure you can see your pull request properly. This helps the technical facilitator and learning support staff review your submission easily.\n",
    "\n",
    "Checklist:\n",
    "- [ ] Created a branch with the correct naming convention.\n",
    "- [ ] Ensured that the repository is public.\n",
    "- [ ] Reviewed the PR description guidelines and adhered to them.\n",
    "- [ ] Verify that the link is accessible in a private browser window.\n",
    "\n",
    "If you encounter any difficulties or have questions, please don't hesitate to reach out to our team via our Slack at `#cohort-3-help`. Our Technical Facilitators and Learning Support staff are here to help you navigate any challenges.\n"
   ]
  }
 ],
 "metadata": {
  "kernelspec": {
   "display_name": "Python 3.10.4",
   "language": "python",
   "name": "python3"
  },
  "language_info": {
   "codemirror_mode": {
    "name": "ipython",
    "version": 3
   },
   "file_extension": ".py",
   "mimetype": "text/x-python",
   "name": "python",
   "nbconvert_exporter": "python",
   "pygments_lexer": "ipython3",
   "version": "3.9.18"
  },
  "vscode": {
   "interpreter": {
    "hash": "497a84dc8fec8cf8d24e7e87b6d954c9a18a327edc66feb9b9ea7e9e72cc5c7e"
   }
  }
 },
 "nbformat": 4,
 "nbformat_minor": 5
}
